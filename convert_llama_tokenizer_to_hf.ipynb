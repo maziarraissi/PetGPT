{
 "cells": [
  {
   "cell_type": "code",
   "execution_count": 1,
   "id": "65ca198f",
   "metadata": {},
   "outputs": [],
   "source": [
    "import os\n",
    "import json\n",
    "import shutil"
   ]
  },
  {
   "cell_type": "code",
   "execution_count": 2,
   "id": "62486658",
   "metadata": {},
   "outputs": [],
   "source": [
    "def write_json(text, path):\n",
    "    with open(path, \"w\") as f:\n",
    "        json.dump(text, f)"
   ]
  },
  {
   "cell_type": "code",
   "execution_count": 3,
   "id": "aa15799f",
   "metadata": {},
   "outputs": [],
   "source": [
    "def write_tokenizer(tokenizer_path, input_tokenizer_path):\n",
    "    print(f\"Fetching the tokenizer from {input_tokenizer_path}.\")\n",
    "    os.makedirs(tokenizer_path, exist_ok=True)\n",
    "    write_json({}, os.path.join(tokenizer_path, \"special_tokens_map.json\"))\n",
    "    write_json(\n",
    "        {\n",
    "            \"bos_token\": \"\",\n",
    "            \"eos_token\": \"\",\n",
    "            \"model_max_length\": int(1e30),\n",
    "            \"tokenizer_class\": \"LlamaTokenizer\",\n",
    "            \"unk_token\": \"\",\n",
    "        },\n",
    "        os.path.join(tokenizer_path, \"tokenizer_config.json\"),\n",
    "    )\n",
    "    shutil.copyfile(input_tokenizer_path, os.path.join(tokenizer_path, \"tokenizer.model\"))"
   ]
  },
  {
   "cell_type": "code",
   "execution_count": 4,
   "id": "53954dfd",
   "metadata": {},
   "outputs": [
    {
     "name": "stdout",
     "output_type": "stream",
     "text": [
      "Fetching the tokenizer from LLaMA/tokenizer.model.\n"
     ]
    }
   ],
   "source": [
    "write_tokenizer(tokenizer_path='LLaMA_HF',\n",
    "                input_tokenizer_path='LLaMA/tokenizer.model')"
   ]
  },
  {
   "cell_type": "code",
   "execution_count": null,
   "id": "9f1b9289",
   "metadata": {},
   "outputs": [],
   "source": []
  }
 ],
 "metadata": {
  "kernelspec": {
   "display_name": "Python 3 (ipykernel)",
   "language": "python",
   "name": "python3"
  },
  "language_info": {
   "codemirror_mode": {
    "name": "ipython",
    "version": 3
   },
   "file_extension": ".py",
   "mimetype": "text/x-python",
   "name": "python",
   "nbconvert_exporter": "python",
   "pygments_lexer": "ipython3",
   "version": "3.10.10"
  }
 },
 "nbformat": 4,
 "nbformat_minor": 5
}
